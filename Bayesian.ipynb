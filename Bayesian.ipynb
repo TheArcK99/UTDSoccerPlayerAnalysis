{
 "cells": [
  {
   "cell_type": "code",
   "execution_count": 3,
   "metadata": {},
   "outputs": [
    {
     "name": "stdout",
     "output_type": "stream",
     "text": [
      "Bayesian Ridge Regression:\n",
      "Mean Squared Error (Cross-Validated): 93.80694562001456\n",
      "MSE Standard Deviation: 11.5117052314532\n",
      "R-squared (Cross-Validated): 0.10480778155801806\n",
      "R-squared Standard Deviation: 0.07146809667867343\n"
     ]
    }
   ],
   "source": [
    "import pandas as pd\n",
    "import numpy as np\n",
    "from sklearn.model_selection import cross_val_score, KFold\n",
    "from sklearn.linear_model import BayesianRidge\n",
    "from sklearn.preprocessing import StandardScaler\n",
    "from sklearn.metrics import mean_squared_error, r2_score\n",
    "from sklearn.impute import SimpleImputer\n",
    "from sklearn.feature_selection import SelectKBest, f_regression\n",
    "\n",
    "file_path = \"MinMaxData1.xlsx\"\n",
    "df = pd.read_excel(file_path, engine=\"openpyxl\")\n",
    "\n",
    "Q1 = df[\"fee_cleaned\"].quantile(0.25)\n",
    "Q3 = df[\"fee_cleaned\"].quantile(0.75)\n",
    "IQR = Q3 - Q1\n",
    "df = df[~((df[\"fee_cleaned\"] < (Q1 - 1.5 * IQR)) | (df[\"fee_cleaned\"] > (Q3 + 1.5 * IQR)))]\n",
    "\n",
    "df.dropna(subset=[\"fee_cleaned\"], inplace=True)\n",
    "\n",
    "features = df[\n",
    "    [\n",
    "        \"matches_played\", \"goals\", \"assists\", \"yellow_card\", \"90s_played\",\n",
    "        \"minutes\", \"xGoals\", \"xAssists\", \"passes\", \"pass_complete%\",\n",
    "        \"tackle\", \"block\", \"touches\", \"carries\", \"goals_against\", \"goals_against90\",\n",
    "        \"Saves\", \"Saves%\", \"PSxG\", \"age\"\n",
    "    ]\n",
    "]\n",
    "\n",
    "target = df[\"fee_cleaned\"]\n",
    "\n",
    "imputer = SimpleImputer(strategy=\"mean\")\n",
    "features_imputed = imputer.fit_transform(features)\n",
    "\n",
    "scaler = StandardScaler()\n",
    "features_scaled = scaler.fit_transform(features_imputed)\n",
    "\n",
    "selector = SelectKBest(score_func=f_regression, k=10)\n",
    "features_selected = selector.fit_transform(features_scaled, target)\n",
    "\n",
    "kfold = KFold(n_splits=5, shuffle=True, random_state=42)\n",
    "\n",
    "bayesian_ridge_model = BayesianRidge()\n",
    "mse_scores_bayesian_ridge = -cross_val_score(bayesian_ridge_model, features_selected, target, cv=kfold, scoring='neg_mean_squared_error')\n",
    "r_squared_scores_bayesian_ridge = cross_val_score(bayesian_ridge_model, features_selected, target, cv=kfold, scoring='r2')\n",
    "\n",
    "mean_mse_bayesian_ridge, std_mse_bayesian_ridge = np.mean(mse_scores_bayesian_ridge), np.std(mse_scores_bayesian_ridge)\n",
    "mean_r_squared_bayesian_ridge, std_r_squared_bayesian_ridge = np.mean(r_squared_scores_bayesian_ridge), np.std(r_squared_scores_bayesian_ridge)\n",
    "\n",
    "print(\"Bayesian Ridge Regression:\")\n",
    "print(\"Mean Squared Error (Cross-Validated):\", mean_mse_bayesian_ridge)\n",
    "print(\"MSE Standard Deviation:\", std_mse_bayesian_ridge)\n",
    "print(\"R-squared (Cross-Validated):\", mean_r_squared_bayesian_ridge)\n",
    "print(\"R-squared Standard Deviation:\", std_r_squared_bayesian_ridge)\n"
   ]
  }
 ],
 "metadata": {
  "kernelspec": {
   "display_name": "Python 3",
   "language": "python",
   "name": "python3"
  },
  "language_info": {
   "codemirror_mode": {
    "name": "ipython",
    "version": 3
   },
   "file_extension": ".py",
   "mimetype": "text/x-python",
   "name": "python",
   "nbconvert_exporter": "python",
   "pygments_lexer": "ipython3",
   "version": "3.11.1"
  },
  "orig_nbformat": 4,
  "vscode": {
   "interpreter": {
    "hash": "aee8b7b246df8f9039afb4144a1f6fd8d2ca17a180786b69acc140d282b71a49"
   }
  }
 },
 "nbformat": 4,
 "nbformat_minor": 2
}
